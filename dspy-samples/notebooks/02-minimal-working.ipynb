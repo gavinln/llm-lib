{
 "cells": [
  {
   "cell_type": "markdown",
   "id": "cbe7ca65-0466-4dc7-ad8a-fd29b74a25d0",
   "metadata": {},
   "source": [
    "# Minimal Working Example"
   ]
  },
  {
   "cell_type": "code",
   "execution_count": 9,
   "id": "a2ae29c2-d60b-4133-ba7c-293fc2573b02",
   "metadata": {},
   "outputs": [],
   "source": [
    "import dspy\n",
    "from dspy.datasets.gsm8k import GSM8K, gsm8k_metric\n",
    "from dspy.teleprompt import BootstrapFewShot\n",
    "from dspy.evaluate import Evaluate"
   ]
  },
  {
   "cell_type": "markdown",
   "id": "74bc6e3c-0c0a-41a9-95f7-929adb829d5e",
   "metadata": {},
   "source": [
    "Set up the language model"
   ]
  },
  {
   "cell_type": "code",
   "execution_count": 4,
   "id": "6c768052-679f-4390-ad9d-bf16bd32764e",
   "metadata": {},
   "outputs": [],
   "source": [
    "turbo = dspy.OpenAI(model=\"gpt-3.5-turbo-instruct\", max_tokens=250)\n",
    "dspy.settings.configure(lm=turbo)"
   ]
  },
  {
   "cell_type": "markdown",
   "id": "c89486f4-9ab3-4e09-ba58-2c84c0268572",
   "metadata": {},
   "source": [
    "Load math questions from the GSM8K dataset"
   ]
  },
  {
   "cell_type": "code",
   "execution_count": 5,
   "id": "3c41cdc2-9fc5-4932-ba7e-81b4e7e4251b",
   "metadata": {},
   "outputs": [
    {
     "data": {
      "application/vnd.jupyter.widget-view+json": {
       "model_id": "70c08899db654e6c8489576032df69d9",
       "version_major": 2,
       "version_minor": 0
      },
      "text/plain": [
       "Downloading readme:   0%|          | 0.00/7.94k [00:00<?, ?B/s]"
      ]
     },
     "metadata": {},
     "output_type": "display_data"
    },
    {
     "data": {
      "application/vnd.jupyter.widget-view+json": {
       "model_id": "250bbf20192f429eb412311c533fd8dc",
       "version_major": 2,
       "version_minor": 0
      },
      "text/plain": [
       "Downloading data:   0%|          | 0.00/2.31M [00:00<?, ?B/s]"
      ]
     },
     "metadata": {},
     "output_type": "display_data"
    },
    {
     "data": {
      "application/vnd.jupyter.widget-view+json": {
       "model_id": "37d49c7c92dc44cfb87166ce5ce5df4f",
       "version_major": 2,
       "version_minor": 0
      },
      "text/plain": [
       "Downloading data:   0%|          | 0.00/419k [00:00<?, ?B/s]"
      ]
     },
     "metadata": {},
     "output_type": "display_data"
    },
    {
     "data": {
      "application/vnd.jupyter.widget-view+json": {
       "model_id": "273608b29b91405486bea8e142d700f3",
       "version_major": 2,
       "version_minor": 0
      },
      "text/plain": [
       "Generating train split:   0%|          | 0/7473 [00:00<?, ? examples/s]"
      ]
     },
     "metadata": {},
     "output_type": "display_data"
    },
    {
     "data": {
      "application/vnd.jupyter.widget-view+json": {
       "model_id": "f0976ffdcf7c42df8232775310f15cdd",
       "version_major": 2,
       "version_minor": 0
      },
      "text/plain": [
       "Generating test split:   0%|          | 0/1319 [00:00<?, ? examples/s]"
      ]
     },
     "metadata": {},
     "output_type": "display_data"
    },
    {
     "name": "stderr",
     "output_type": "stream",
     "text": [
      "100%|██████████████████████████████████████████████████████| 7473/7473 [00:00<00:00, 20216.52it/s]\n",
      "100%|██████████████████████████████████████████████████████| 1319/1319 [00:00<00:00, 19970.79it/s]\n"
     ]
    }
   ],
   "source": [
    "gsm8k = GSM8K()\n",
    "gsm8k_trainset, gsm8k_devset = gsm8k.train[:10], gsm8k.dev[:10]"
   ]
  },
  {
   "cell_type": "code",
   "execution_count": 7,
   "id": "7e6022f8-88b4-4bc0-9cc7-7bd0bbe422f4",
   "metadata": {},
   "outputs": [],
   "source": [
    "# print(gsm8k_trainset)"
   ]
  },
  {
   "cell_type": "markdown",
   "id": "4e847854-cbe0-4a54-bbc3-21e46ca8b89d",
   "metadata": {},
   "source": [
    "Create the chain-of-thought module"
   ]
  },
  {
   "cell_type": "code",
   "execution_count": 8,
   "id": "eb33b6ac-0493-41dc-8356-45c498bfb4ec",
   "metadata": {},
   "outputs": [],
   "source": [
    "class CoT(dspy.Module):\n",
    "    def __init__(self):\n",
    "        super().__init__()\n",
    "        self.prog = dspy.ChainOfThought(\"question -> answer\")\n",
    "\n",
    "    def forward(self, question):\n",
    "        return self.prog(question=question)"
   ]
  },
  {
   "cell_type": "markdown",
   "id": "c3582f75-279c-40eb-a7ad-c5aedd62b449",
   "metadata": {},
   "source": [
    "Compile the model"
   ]
  },
  {
   "cell_type": "code",
   "execution_count": 11,
   "id": "385592ef-d806-47d3-99c0-e7ed9e07b99a",
   "metadata": {},
   "outputs": [
    {
     "name": "stderr",
     "output_type": "stream",
     "text": [
      " 50%|███████████████████████████████                               | 5/10 [00:07<00:07,  1.59s/it]\n"
     ]
    }
   ],
   "source": [
    "config = dict(max_bootstrapped_demos=4, max_labeled_demos=4)\n",
    "teleprompter = BootstrapFewShot(metric=gsm8k_metric, **config)\n",
    "optimized_cot = teleprompter.compile(CoT(), trainset=gsm8k_trainset)"
   ]
  },
  {
   "cell_type": "markdown",
   "id": "76053633-9402-4330-8f6b-cb2718245578",
   "metadata": {},
   "source": [
    "Evaluate"
   ]
  },
  {
   "cell_type": "code",
   "execution_count": 12,
   "id": "2b846440-d7dd-4b44-b0c1-5b92c2a64ac6",
   "metadata": {},
   "outputs": [
    {
     "name": "stderr",
     "output_type": "stream",
     "text": [
      "Average Metric: 7 / 10  (70.0): 100%|█████████████████████████████| 10/10 [00:03<00:00,  2.56it/s]\n"
     ]
    },
    {
     "data": {
      "text/plain": [
       "70.0"
      ]
     },
     "execution_count": 12,
     "metadata": {},
     "output_type": "execute_result"
    }
   ],
   "source": [
    "evaluate = Evaluate(\n",
    "    devset=gsm8k_devset,\n",
    "    metric=gsm8k_metric,\n",
    "    num_threads=4,\n",
    "    display_progress=True,\n",
    "    display_table=0,\n",
    ")\n",
    "\n",
    "evaluate(optimized_cot)"
   ]
  },
  {
   "cell_type": "code",
   "execution_count": 14,
   "id": "c16b822f-54ce-4c20-8ce3-abdcebf5fbc4",
   "metadata": {},
   "outputs": [],
   "source": [
    "# turbo.inspect_history(n=1)"
   ]
  }
 ],
 "metadata": {
  "kernelspec": {
   "display_name": "Python 3 (ipykernel)",
   "language": "python",
   "name": "python3"
  },
  "language_info": {
   "codemirror_mode": {
    "name": "ipython",
    "version": 3
   },
   "file_extension": ".py",
   "mimetype": "text/x-python",
   "name": "python",
   "nbconvert_exporter": "python",
   "pygments_lexer": "ipython3",
   "version": "3.11.9"
  }
 },
 "nbformat": 4,
 "nbformat_minor": 5
}
