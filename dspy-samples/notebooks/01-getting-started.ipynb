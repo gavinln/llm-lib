{
 "cells": [
  {
   "cell_type": "markdown",
   "id": "f2e19efa-a9c0-453d-b20a-413d00aaaa30",
   "metadata": {},
   "source": [
    "# Getting started"
   ]
  },
  {
   "cell_type": "code",
   "execution_count": 1,
   "id": "a661c496-3587-4129-ad70-65c92aadb808",
   "metadata": {},
   "outputs": [],
   "source": [
    "%load_ext autoreload\n",
    "%autoreload 2"
   ]
  },
  {
   "cell_type": "code",
   "execution_count": 45,
   "id": "115013ff-c9fe-4dd2-99d0-20dfa4d8b260",
   "metadata": {},
   "outputs": [],
   "source": [
    "import dspy\n",
    "\n",
    "from dspy.datasets import HotPotQA\n",
    "from dspy.teleprompt import BootstrapFewShot\n",
    "from dspy.evaluate.evaluate import Evaluate\n",
    "from dsp.utils import deduplicate"
   ]
  },
  {
   "cell_type": "markdown",
   "id": "83088bb4-526e-4fa7-aa99-27ea1b8f9d02",
   "metadata": {},
   "source": [
    "ColBERTv2 server hosting a Wikipedia 2017 abstracts (first paragraph of each article)"
   ]
  },
  {
   "cell_type": "code",
   "execution_count": 3,
   "id": "edf7ba2b-97dc-4ca0-93ef-db4231f2c798",
   "metadata": {},
   "outputs": [],
   "source": [
    "colbertV2 = \"http://20.102.90.50:2017/wiki17_abstracts\""
   ]
  },
  {
   "cell_type": "code",
   "execution_count": 4,
   "id": "9e8f316d-c0f3-44c0-872c-4080300f9b3f",
   "metadata": {},
   "outputs": [],
   "source": [
    "turbo = dspy.OpenAI(model=\"gpt-3.5-turbo\")"
   ]
  },
  {
   "cell_type": "code",
   "execution_count": 5,
   "id": "18212964-21d9-44a2-9e06-7921ab9d65ec",
   "metadata": {},
   "outputs": [],
   "source": [
    "colbertv2_wiki17_abstracts = dspy.ColBERTv2(url=colbertV2)\n",
    "dspy.settings.configure(lm=turbo, rm=colbertv2_wiki17_abstracts)"
   ]
  },
  {
   "cell_type": "markdown",
   "id": "ffd0239f-b648-4947-bf51-2f410c34bce4",
   "metadata": {},
   "source": [
    "## DSPy workflow"
   ]
  },
  {
   "cell_type": "markdown",
   "id": "fd6269a0-ed13-40d5-a6f9-96d1383b6848",
   "metadata": {},
   "source": [
    "1. Collect a little bit of data\n",
    "2. Write your program\n",
    "3. Define some validation logic\n",
    "4. Compile\n",
    "5. Iterate"
   ]
  },
  {
   "cell_type": "markdown",
   "id": "b3c4bd60-8e9f-4ddd-b55b-76c39d57eb52",
   "metadata": {},
   "source": [
    "Get HotPotQA dataset"
   ]
  },
  {
   "cell_type": "code",
   "execution_count": 6,
   "id": "b728bf3e-dc09-45ef-b855-52e7ed4e57ad",
   "metadata": {},
   "outputs": [],
   "source": [
    "dataset = HotPotQA(\n",
    "    train_seed=1, train_size=20, eval_seed=2023, dev_size=40, test_size=0\n",
    ")"
   ]
  },
  {
   "cell_type": "code",
   "execution_count": 7,
   "id": "e4bcb81e-a127-45a8-a6c3-7590a89a51cb",
   "metadata": {},
   "outputs": [
    {
     "data": {
      "text/plain": [
       "(20, 40, 0)"
      ]
     },
     "execution_count": 7,
     "metadata": {},
     "output_type": "execute_result"
    }
   ],
   "source": [
    "len(dataset.train), len(dataset.dev), len(dataset.test)"
   ]
  },
  {
   "cell_type": "code",
   "execution_count": 8,
   "id": "24bf202e-0a7e-46f4-bb4a-8aa9e2a0262d",
   "metadata": {},
   "outputs": [
    {
     "data": {
      "text/plain": [
       "['question', 'answer']"
      ]
     },
     "execution_count": 8,
     "metadata": {},
     "output_type": "execute_result"
    }
   ],
   "source": [
    "dataset.train[0].keys()"
   ]
  },
  {
   "cell_type": "code",
   "execution_count": 9,
   "id": "4a062f24-68a2-468e-933c-7ca38f0aa29a",
   "metadata": {},
   "outputs": [
    {
     "data": {
      "text/plain": [
       "['question', 'answer', 'gold_titles']"
      ]
     },
     "execution_count": 9,
     "metadata": {},
     "output_type": "execute_result"
    }
   ],
   "source": [
    "dataset.dev[0].keys()"
   ]
  },
  {
   "cell_type": "markdown",
   "id": "dcde33cd-4410-4f09-860c-3277c18d067d",
   "metadata": {},
   "source": [
    "### Questions and Answers"
   ]
  },
  {
   "cell_type": "markdown",
   "id": "bcc9ea36-3cc3-45cb-84e1-c03c51fe8261",
   "metadata": {},
   "source": [
    "Show train example"
   ]
  },
  {
   "cell_type": "code",
   "execution_count": 10,
   "id": "5f5864c6-a6fd-4874-9801-e466025d5a32",
   "metadata": {},
   "outputs": [
    {
     "name": "stdout",
     "output_type": "stream",
     "text": [
      "Question At My Window was released by which American singer-songwriter?\n",
      "Answer John Townes Van Zandt\n"
     ]
    }
   ],
   "source": [
    "train_example = dataset.train[0]\n",
    "print(f\"Question {train_example.question}\")\n",
    "print(f\"Answer {train_example.answer}\")"
   ]
  },
  {
   "cell_type": "markdown",
   "id": "4301d058-2ec5-41e7-8fe0-0b3d62d1148d",
   "metadata": {},
   "source": [
    "Show dev example"
   ]
  },
  {
   "cell_type": "code",
   "execution_count": 11,
   "id": "3847b9d0-4b26-4229-9abe-7bccb4e96e47",
   "metadata": {},
   "outputs": [
    {
     "name": "stdout",
     "output_type": "stream",
     "text": [
      "Question Are both Cangzhou and Qionghai in the Hebei province of China?\n",
      "Answer no\n",
      "Gold titles {'Cangzhou', 'Qionghai'}\n"
     ]
    }
   ],
   "source": [
    "dev_example = dataset.dev[0]\n",
    "print(f\"Question {dev_example.question}\")\n",
    "print(f\"Answer {dev_example.answer}\")\n",
    "print(f\"Gold titles {dev_example.gold_titles}\")"
   ]
  },
  {
   "cell_type": "markdown",
   "id": "25a2b757-a607-4783-9be0-88c864ea6bdc",
   "metadata": {},
   "source": [
    "### Inputs and Labels"
   ]
  },
  {
   "cell_type": "markdown",
   "id": "b344c9a6-e8c2-4de1-8360-c7af90fba1f3",
   "metadata": {},
   "source": [
    "Set inputs and labels"
   ]
  },
  {
   "cell_type": "code",
   "execution_count": 12,
   "id": "286754a4-7206-422a-b7fd-62e94eb1bbff",
   "metadata": {},
   "outputs": [],
   "source": [
    "trainset = [x.with_inputs(\"question\") for x in dataset.train]\n",
    "devset = [x.with_inputs(\"question\") for x in dataset.dev]"
   ]
  },
  {
   "cell_type": "code",
   "execution_count": 13,
   "id": "1d1b1945-8c83-49f3-a194-0f48743a5e58",
   "metadata": {},
   "outputs": [],
   "source": [
    "train_example = trainset[0]\n",
    "dev_example = devset[0]"
   ]
  },
  {
   "cell_type": "code",
   "execution_count": 14,
   "id": "9be56bc8-f0d8-42be-b15c-549d4fab8ce4",
   "metadata": {},
   "outputs": [
    {
     "data": {
      "text/plain": [
       "(['question'], ['question'])"
      ]
     },
     "execution_count": 14,
     "metadata": {},
     "output_type": "execute_result"
    }
   ],
   "source": [
    "train_example.inputs().keys(), dev_example.inputs().keys()"
   ]
  },
  {
   "cell_type": "code",
   "execution_count": 15,
   "id": "0de39d2b-8400-42e5-b2a8-6324d8e23d85",
   "metadata": {},
   "outputs": [
    {
     "data": {
      "text/plain": [
       "(['answer'], ['answer', 'gold_titles'])"
      ]
     },
     "execution_count": 15,
     "metadata": {},
     "output_type": "execute_result"
    }
   ],
   "source": [
    "train_example.labels().keys(), dev_example.labels().keys()"
   ]
  },
  {
   "cell_type": "markdown",
   "id": "a2b09739-6a6c-4bfd-ab5b-1f4b2fadd084",
   "metadata": {},
   "source": [
    "### Signatures"
   ]
  },
  {
   "cell_type": "markdown",
   "id": "80130653-af63-411a-a607-369b2d367e2c",
   "metadata": {},
   "source": [
    "Create a signature"
   ]
  },
  {
   "cell_type": "code",
   "execution_count": 16,
   "id": "3c2abf69-f2f2-4e26-88ba-aa658a6d8bac",
   "metadata": {},
   "outputs": [],
   "source": [
    "class BasicQA(dspy.Signature):\n",
    "    \"Answer questions with short factoid answers\"\n",
    "\n",
    "    question = dspy.InputField()\n",
    "    answer = dspy.OutputField(desc=\"often between 1 and 5 words\")"
   ]
  },
  {
   "cell_type": "markdown",
   "id": "3dc2f6a1-d29d-493f-a74d-7789d4c26734",
   "metadata": {},
   "source": [
    "### Simple question-answer"
   ]
  },
  {
   "cell_type": "markdown",
   "id": "e81a82c1-f574-49e9-8923-7467f102ae8d",
   "metadata": {},
   "source": [
    "Define the predictor"
   ]
  },
  {
   "cell_type": "code",
   "execution_count": 17,
   "id": "d3b0b595-646e-47d5-90fa-051183175cf4",
   "metadata": {},
   "outputs": [],
   "source": [
    "generate_answer = dspy.Predict(BasicQA)"
   ]
  },
  {
   "cell_type": "code",
   "execution_count": 18,
   "id": "6409f8e5-7868-404d-95ae-e08a80e813c9",
   "metadata": {},
   "outputs": [
    {
     "name": "stdout",
     "output_type": "stream",
     "text": [
      "Question: Are both Cangzhou and Qionghai in the Hebei province of China?\n",
      "Predicted Answer: No, Qionghai is in Hainan province.\n"
     ]
    }
   ],
   "source": [
    "pred = generate_answer(question=dev_example.question)\n",
    "print(f\"Question: {dev_example.question}\")\n",
    "print(f\"Predicted Answer: {pred.answer}\")"
   ]
  },
  {
   "cell_type": "code",
   "execution_count": 19,
   "id": "0aa78f28-ccc6-4513-aa47-6689bd655a34",
   "metadata": {},
   "outputs": [
    {
     "name": "stdout",
     "output_type": "stream",
     "text": [
      "\n",
      "\n",
      "\n",
      "Answer questions with short factoid answers\n",
      "\n",
      "---\n",
      "\n",
      "Follow the following format.\n",
      "\n",
      "Question: ${question}\n",
      "Answer: often between 1 and 5 words\n",
      "\n",
      "---\n",
      "\n",
      "Question: Are both Cangzhou and Qionghai in the Hebei province of China?\n",
      "Answer:\u001b[32m No, Qionghai is in Hainan province.\u001b[0m\n",
      "\n",
      "\n",
      "\n"
     ]
    },
    {
     "data": {
      "text/plain": [
       "'\\n\\n\\nAnswer questions with short factoid answers\\n\\n---\\n\\nFollow the following format.\\n\\nQuestion: ${question}\\nAnswer: often between 1 and 5 words\\n\\n---\\n\\nQuestion: Are both Cangzhou and Qionghai in the Hebei province of China?\\nAnswer:\\x1b[32m No, Qionghai is in Hainan province.\\x1b[0m\\n\\n\\n'"
      ]
     },
     "execution_count": 19,
     "metadata": {},
     "output_type": "execute_result"
    }
   ],
   "source": [
    "turbo.inspect_history(n=1)"
   ]
  },
  {
   "cell_type": "markdown",
   "id": "3026ec9f-3ab4-47ab-9d23-e0d61d08c531",
   "metadata": {},
   "source": [
    "### Chain-of-thought question-answer"
   ]
  },
  {
   "cell_type": "markdown",
   "id": "20e5299d-7fd6-45bf-a53f-15d3bae2a426",
   "metadata": {},
   "source": [
    "Define the predictor"
   ]
  },
  {
   "cell_type": "code",
   "execution_count": 20,
   "id": "5e8cd106-316d-46b7-a7be-0ea81ad99ace",
   "metadata": {},
   "outputs": [],
   "source": [
    "generate_answer_cot = dspy.ChainOfThought(BasicQA)"
   ]
  },
  {
   "cell_type": "code",
   "execution_count": 21,
   "id": "2aa4d73e-500e-47ce-8a9b-4cfd1604460d",
   "metadata": {},
   "outputs": [
    {
     "name": "stdout",
     "output_type": "stream",
     "text": [
      "Question: Are both Cangzhou and Qionghai in the Hebei province of China?\n",
      "Thought: produce the answer. We can check the locations of Cangzhou and Qionghai.\n",
      "Predicted Answer: No, Qionghai is in Hainan province.\n"
     ]
    }
   ],
   "source": [
    "pred = generate_answer_cot(question=dev_example.question)\n",
    "print(f\"Question: {dev_example.question}\")\n",
    "print(f\"Thought: {pred.rationale}\")\n",
    "print(f\"Predicted Answer: {pred.answer}\")"
   ]
  },
  {
   "cell_type": "markdown",
   "id": "88cd86c8-1bf6-4027-bc8d-c5ffd2f7a658",
   "metadata": {},
   "source": [
    "### Retrieval"
   ]
  },
  {
   "cell_type": "code",
   "execution_count": 22,
   "id": "730d18e0-040c-4a14-b341-1452179e6e0f",
   "metadata": {},
   "outputs": [],
   "source": [
    "retrieve = dspy.Retrieve(k=3)\n",
    "topK_passages = retrieve(dev_example.question).passages"
   ]
  },
  {
   "cell_type": "code",
   "execution_count": 23,
   "id": "3969c13a-8efe-4dbc-80db-0eeb7bbfad50",
   "metadata": {},
   "outputs": [
    {
     "name": "stdout",
     "output_type": "stream",
     "text": [
      "Top 3 passages for question: Are both Cangzhou and Qionghai in the Hebei province of China?\n"
     ]
    }
   ],
   "source": [
    "print(f\"Top {retrieve.k} passages for question: {dev_example.question}\")"
   ]
  },
  {
   "cell_type": "code",
   "execution_count": 24,
   "id": "34bee356-5876-4357-9ec7-eb21ff2eabdc",
   "metadata": {},
   "outputs": [
    {
     "name": "stdout",
     "output_type": "stream",
     "text": [
      "1: Cangzhou | Cangzhou () is a prefecture-level city in eastern Hebei province, People's Republic of China. At the 2010 census, Cangzhou's built-up (\"or metro\") area made of Yunhe, Xinhua districts and Cang County largely being conurbated had a population of 1,205,814 inhabitants, while the prefecture-level administrative unit in total has a population of 7,134,062. It lies approximately 90 km from the major port city of Tianjin, and 180 km from Beijing.\n",
      "\n",
      "2: Haixing County | Haixing County () is a county of southeastern Hebei province, China, bordering Shandong to the southeast. It is administered by Cangzhou City, and, , had a population of 220,000 residing in an area of 836 km2 . Both G18 Rongcheng–Wuhai Expressway and G25 Changchun–Shenzhen Expressway pass through the county.\n",
      "\n",
      "3: Dongguang County | Dongguang County () is a county under the jurisdiction of Cangzhou City, in southeastern Hebei province, People's Republic of China, bordering Shandong to the southeast.\n",
      "\n"
     ]
    }
   ],
   "source": [
    "for idx, passage in enumerate(topK_passages):\n",
    "    print(f\"{idx + 1}: {passage}\\n\")"
   ]
  },
  {
   "cell_type": "markdown",
   "id": "083afebc-795b-409d-bba8-bbeb833681f4",
   "metadata": {},
   "source": [
    "### Retrieval-augmented generation - RAG"
   ]
  },
  {
   "cell_type": "code",
   "execution_count": 25,
   "id": "85da6f7e-e3ae-4f89-9dc5-cc724a07e3d8",
   "metadata": {},
   "outputs": [],
   "source": [
    "class GenerateAnswer(dspy.Signature):\n",
    "    \"Answer questions with short factoid answers\"\n",
    "\n",
    "    context = dspy.InputField(desc=\"may contain relevant facts\")\n",
    "    question = dspy.InputField()\n",
    "    answer = dspy.OutputField(desc=\"often between 1 and 5 words\")"
   ]
  },
  {
   "cell_type": "markdown",
   "id": "57636cdd-f1ac-4a0f-a985-1db1d899b11f",
   "metadata": {},
   "source": [
    "RAG dspy program"
   ]
  },
  {
   "cell_type": "code",
   "execution_count": 26,
   "id": "8393fa3e-9e01-4c53-b87e-35c73406845a",
   "metadata": {},
   "outputs": [],
   "source": [
    "class RAG(dspy.Module):\n",
    "    def __init__(self, num_passages=3):\n",
    "        super().__init__()\n",
    "        self.retrieve = dspy.Retrieve(k=num_passages)\n",
    "        self.generate_answer = dspy.ChainOfThought(GenerateAnswer)\n",
    "\n",
    "    def forward(self, question):\n",
    "        context = self.retrieve(question).passages\n",
    "        prediction = self.generate_answer(context=context, question=question)\n",
    "        return dspy.Prediction(context=context, answer=prediction.answer)"
   ]
  },
  {
   "cell_type": "markdown",
   "id": "a8795835-2b56-4215-82dc-f81861f7ea48",
   "metadata": {},
   "source": [
    "Teleprompter - optimizer that can take a program and bootstrap an effective prompt"
   ]
  },
  {
   "cell_type": "code",
   "execution_count": 27,
   "id": "ad36647e-0fbd-404b-b616-22aa7e4ae0ed",
   "metadata": {},
   "outputs": [],
   "source": [
    "def validate_context_answer(example, pred, trac=None):\n",
    "    answer_EM = dspy.evaluate.answer_exact_match(example, pred)\n",
    "    answer_PM = dspy.evaluate.answer_passage_match(example, pred)\n",
    "    return answer_EM, answer_PM"
   ]
  },
  {
   "cell_type": "code",
   "execution_count": 28,
   "id": "f67fabaf-1ced-4997-a7dd-7fc762e1d00a",
   "metadata": {},
   "outputs": [],
   "source": [
    "teleprompter = BootstrapFewShot(metric=validate_context_answer)"
   ]
  },
  {
   "cell_type": "code",
   "execution_count": 29,
   "id": "e296d986-8628-48ba-914d-04011d801274",
   "metadata": {},
   "outputs": [
    {
     "name": "stderr",
     "output_type": "stream",
     "text": [
      " 20%|████████████▏                                                | 4/20 [00:00<00:00, 267.38it/s]\n"
     ]
    }
   ],
   "source": [
    "compiled_rag = teleprompter.compile(RAG(), trainset=trainset)"
   ]
  },
  {
   "cell_type": "markdown",
   "id": "341499ca-75d8-4971-b28e-52c5ab7b4c12",
   "metadata": {},
   "source": [
    "Use compiled RAG program"
   ]
  },
  {
   "cell_type": "code",
   "execution_count": 31,
   "id": "314fa2df-f0a2-4ac2-acf9-d67e930aaf68",
   "metadata": {},
   "outputs": [],
   "source": [
    "my_question = \"What castle did David Gregory inherit?\"\n",
    "pred = compiled_rag(my_question)"
   ]
  },
  {
   "cell_type": "code",
   "execution_count": 34,
   "id": "4de9695d-bd62-4d22-bb0f-12343f574d29",
   "metadata": {},
   "outputs": [
    {
     "data": {
      "text/plain": [
       "['David Greg...', 'Gregory Ta...', 'David Greg...']"
      ]
     },
     "execution_count": 34,
     "metadata": {},
     "output_type": "execute_result"
    }
   ],
   "source": [
    "[c[:10] + \"...\" for c in pred.context]"
   ]
  },
  {
   "cell_type": "code",
   "execution_count": 36,
   "id": "b044ba06-03fb-4b69-966b-84153fc491bd",
   "metadata": {},
   "outputs": [
    {
     "name": "stdout",
     "output_type": "stream",
     "text": [
      "Question: What castle did David Gregory inherit?\n",
      "Predicted Answer: Kinnairdy Castle\n",
      "Retrieved contexts: ['David Gregory (physician) | David Gregory (20 December 1625 – 1720) was a Scottish physician and inventor. His surname is sometimes spelt as Gregorie, the original Scottish spelling. He inherited Kinn...', 'Gregory Tarchaneiotes | Gregory Tarchaneiotes (Greek: Γρηγόριος Ταρχανειώτης , Italian: \"Gregorio Tracanioto\" or \"Tracamoto\" ) was a \"protospatharius\" and the long-reigning catepan of Italy from 998 t...', 'David Gregory (mathematician) | David Gregory (originally spelt Gregorie) FRS (? 1659 – 10 October 1708) was a Scottish mathematician and astronomer. He was professor of mathematics at the University ...']\n"
     ]
    }
   ],
   "source": [
    "print(f\"Question: {my_question}\")\n",
    "print(f\"Predicted Answer: {pred.answer}\")\n",
    "print(f\"Retrieved contexts: {[c[:200] + '...' for c in pred.context]}\")"
   ]
  },
  {
   "cell_type": "code",
   "execution_count": 38,
   "id": "fd80f391-fa47-4e0f-9bd6-45742ceeb670",
   "metadata": {},
   "outputs": [],
   "source": [
    "# turbo.inspect_history(n=1)"
   ]
  },
  {
   "cell_type": "markdown",
   "id": "c302c55b-5b4c-448b-a4f3-6205d62a30fa",
   "metadata": {},
   "source": [
    "View learned objects"
   ]
  },
  {
   "cell_type": "code",
   "execution_count": 39,
   "id": "b1e45484-3912-46c9-abe1-f265fb775fc3",
   "metadata": {},
   "outputs": [
    {
     "name": "stdout",
     "output_type": "stream",
     "text": [
      "generate_answer\n",
      "Example({'augmented': True, 'context': ['At My Window (album) | At My Window is an album released by Folk/country singer-songwriter Townes Van Zandt in 1987. This was Van Zandt\\'s first studio album in the nine years that followed 1978\\'s \"Flyin\\' Shoes\", and his only studio album recorded in the 1980s. Although the songwriter had become less prolific, this release showed that the quality of his material remained high.', 'Little Window | Little Window is the debut album of American singer-songwriter Baby Dee. The album was released in 2002 on the Durtro label. It was produced, composed, and performed entirely by Dee.', 'Windows and Walls | Windows and Walls is the eighth album by American singer-songwriter Dan Fogelberg, released in 1984 (see 1984 in music). The first single, \"The Language of Love\", reached 13 on the U.S. \"Billboard\" Hot 100 chart. Although the follow-up, \"Believe in Me\", missed the Top 40 of the pop chart, peaking at No. 48, it became the singer\\'s fourth No. 1 song on the \"Billboard\" adult contemporary chart.'], 'question': 'At My Window was released by which American singer-songwriter?', 'rationale': 'produce the answer. We know that the album \"At My Window\" was released by an American singer-songwriter in 1987.', 'answer': 'Townes Van Zandt'}) (input_keys=None)\n",
      "\n"
     ]
    }
   ],
   "source": [
    "for name, parameter in compiled_rag.named_predictors():\n",
    "    print(name)\n",
    "    print(parameter.demos[0])\n",
    "    print()"
   ]
  },
  {
   "cell_type": "markdown",
   "id": "c158d4bc-90eb-4b4f-833b-90abc925b251",
   "metadata": {},
   "source": [
    "### Evaluate answers"
   ]
  },
  {
   "cell_type": "code",
   "execution_count": 41,
   "id": "be064653-266e-4eae-967c-04e77cd1b899",
   "metadata": {},
   "outputs": [
    {
     "name": "stdout",
     "output_type": "stream",
     "text": [
      "Average Metric: 23 / 40  (57.5): 100%|████████████████████████████| 40/40 [00:44<00:00,  1.10s/it]\n"
     ]
    },
    {
     "data": {
      "text/html": [
       "<style type=\"text/css\">\n",
       "#T_355e4 th {\n",
       "  text-align: left;\n",
       "}\n",
       "#T_355e4 td {\n",
       "  text-align: left;\n",
       "}\n",
       "#T_355e4_row0_col0, #T_355e4_row0_col1, #T_355e4_row0_col2, #T_355e4_row0_col3, #T_355e4_row0_col4, #T_355e4_row0_col5, #T_355e4_row1_col0, #T_355e4_row1_col1, #T_355e4_row1_col2, #T_355e4_row1_col3, #T_355e4_row1_col4, #T_355e4_row1_col5, #T_355e4_row2_col0, #T_355e4_row2_col1, #T_355e4_row2_col2, #T_355e4_row2_col3, #T_355e4_row2_col4, #T_355e4_row2_col5, #T_355e4_row3_col0, #T_355e4_row3_col1, #T_355e4_row3_col2, #T_355e4_row3_col3, #T_355e4_row3_col4, #T_355e4_row3_col5, #T_355e4_row4_col0, #T_355e4_row4_col1, #T_355e4_row4_col2, #T_355e4_row4_col3, #T_355e4_row4_col4, #T_355e4_row4_col5 {\n",
       "  text-align: left;\n",
       "  white-space: pre-wrap;\n",
       "  word-wrap: break-word;\n",
       "  max-width: 400px;\n",
       "}\n",
       "</style>\n",
       "<table id=\"T_355e4\">\n",
       "  <thead>\n",
       "    <tr>\n",
       "      <th class=\"blank level0\" >&nbsp;</th>\n",
       "      <th id=\"T_355e4_level0_col0\" class=\"col_heading level0 col0\" >question</th>\n",
       "      <th id=\"T_355e4_level0_col1\" class=\"col_heading level0 col1\" >example_answer</th>\n",
       "      <th id=\"T_355e4_level0_col2\" class=\"col_heading level0 col2\" >gold_titles</th>\n",
       "      <th id=\"T_355e4_level0_col3\" class=\"col_heading level0 col3\" >context</th>\n",
       "      <th id=\"T_355e4_level0_col4\" class=\"col_heading level0 col4\" >pred_answer</th>\n",
       "      <th id=\"T_355e4_level0_col5\" class=\"col_heading level0 col5\" >answer_exact_match</th>\n",
       "    </tr>\n",
       "  </thead>\n",
       "  <tbody>\n",
       "    <tr>\n",
       "      <th id=\"T_355e4_level0_row0\" class=\"row_heading level0 row0\" >0</th>\n",
       "      <td id=\"T_355e4_row0_col0\" class=\"data row0 col0\" >Are both Cangzhou and Qionghai in the Hebei province of China?</td>\n",
       "      <td id=\"T_355e4_row0_col1\" class=\"data row0 col1\" >no</td>\n",
       "      <td id=\"T_355e4_row0_col2\" class=\"data row0 col2\" >{'Cangzhou', 'Qionghai'}</td>\n",
       "      <td id=\"T_355e4_row0_col3\" class=\"data row0 col3\" >['Cangzhou | Cangzhou () is a prefecture-level city in eastern Hebei province, People\\'s Republic of China. At the 2010 census, Cangzhou\\'s built-up (\"or metro\") area...</td>\n",
       "      <td id=\"T_355e4_row0_col4\" class=\"data row0 col4\" >No</td>\n",
       "      <td id=\"T_355e4_row0_col5\" class=\"data row0 col5\" >✔️ [True]</td>\n",
       "    </tr>\n",
       "    <tr>\n",
       "      <th id=\"T_355e4_level0_row1\" class=\"row_heading level0 row1\" >1</th>\n",
       "      <td id=\"T_355e4_row1_col0\" class=\"data row1 col0\" >Who conducts the draft in which Marc-Andre Fleury was drafted to the Vegas Golden Knights for the 2017-18 season?</td>\n",
       "      <td id=\"T_355e4_row1_col1\" class=\"data row1 col1\" >National Hockey League</td>\n",
       "      <td id=\"T_355e4_row1_col2\" class=\"data row1 col2\" >{'2017 NHL Expansion Draft', '2017–18 Pittsburgh Penguins season'}</td>\n",
       "      <td id=\"T_355e4_row1_col3\" class=\"data row1 col3\" >['2017–18 Pittsburgh Penguins season | The 2017–18 Pittsburgh Penguins season will be the 51st season for the National Hockey League ice hockey team that was...</td>\n",
       "      <td id=\"T_355e4_row1_col4\" class=\"data row1 col4\" >National Hockey League</td>\n",
       "      <td id=\"T_355e4_row1_col5\" class=\"data row1 col5\" >✔️ [True]</td>\n",
       "    </tr>\n",
       "    <tr>\n",
       "      <th id=\"T_355e4_level0_row2\" class=\"row_heading level0 row2\" >2</th>\n",
       "      <td id=\"T_355e4_row2_col0\" class=\"data row2 col0\" >The Wings entered a new era, following the retirement of which Canadian retired professional ice hockey player and current general manager of the Tampa Bay...</td>\n",
       "      <td id=\"T_355e4_row2_col1\" class=\"data row2 col1\" >Steve Yzerman</td>\n",
       "      <td id=\"T_355e4_row2_col2\" class=\"data row2 col2\" >{'2006–07 Detroit Red Wings season', 'Steve Yzerman'}</td>\n",
       "      <td id=\"T_355e4_row2_col3\" class=\"data row2 col3\" >['Steve Yzerman | Stephen Gregory \"Steve\" Yzerman ( ; born May 9, 1965) is a Canadian retired professional ice hockey player and current general manager...</td>\n",
       "      <td id=\"T_355e4_row2_col4\" class=\"data row2 col4\" >Steve Yzerman</td>\n",
       "      <td id=\"T_355e4_row2_col5\" class=\"data row2 col5\" >✔️ [True]</td>\n",
       "    </tr>\n",
       "    <tr>\n",
       "      <th id=\"T_355e4_level0_row3\" class=\"row_heading level0 row3\" >3</th>\n",
       "      <td id=\"T_355e4_row3_col0\" class=\"data row3 col0\" >What river is near the Crichton Collegiate Church?</td>\n",
       "      <td id=\"T_355e4_row3_col1\" class=\"data row3 col1\" >the River Tyne</td>\n",
       "      <td id=\"T_355e4_row3_col2\" class=\"data row3 col2\" >{'Crichton Castle', 'Crichton Collegiate Church'}</td>\n",
       "      <td id=\"T_355e4_row3_col3\" class=\"data row3 col3\" >[\"Crichton Collegiate Church | Crichton Collegiate Church is situated about 0.6 mi south west of the hamlet of Crichton in Midlothian, Scotland. Crichton itself is...</td>\n",
       "      <td id=\"T_355e4_row3_col4\" class=\"data row3 col4\" >River Tyne</td>\n",
       "      <td id=\"T_355e4_row3_col5\" class=\"data row3 col5\" >✔️ [True]</td>\n",
       "    </tr>\n",
       "    <tr>\n",
       "      <th id=\"T_355e4_level0_row4\" class=\"row_heading level0 row4\" >4</th>\n",
       "      <td id=\"T_355e4_row4_col0\" class=\"data row4 col0\" >In the 10th Century A.D. Ealhswith had a son called Æthelweard by which English king?</td>\n",
       "      <td id=\"T_355e4_row4_col1\" class=\"data row4 col1\" >King Alfred the Great</td>\n",
       "      <td id=\"T_355e4_row4_col2\" class=\"data row4 col2\" >{'Ealhswith', 'Æthelweard (son of Alfred)'}</td>\n",
       "      <td id=\"T_355e4_row4_col3\" class=\"data row4 col3\" >[\"Æthelweard of East Anglia | Æthelweard (died 854) was a 9th-century king of East Anglia, the long-lived Anglo-Saxon kingdom which today includes the English counties...</td>\n",
       "      <td id=\"T_355e4_row4_col4\" class=\"data row4 col4\" >Alfred the Great</td>\n",
       "      <td id=\"T_355e4_row4_col5\" class=\"data row4 col5\" >False</td>\n",
       "    </tr>\n",
       "  </tbody>\n",
       "</table>\n"
      ],
      "text/plain": [
       "<pandas.io.formats.style.Styler at 0x7f8344fa7150>"
      ]
     },
     "metadata": {},
     "output_type": "display_data"
    },
    {
     "data": {
      "text/html": [
       "\n",
       "                <div style='\n",
       "                    text-align: center;\n",
       "                    font-size: 16px;\n",
       "                    font-weight: bold;\n",
       "                    color: #555;\n",
       "                    margin: 10px 0;'>\n",
       "                    ... 35 more rows not displayed ...\n",
       "                </div>\n",
       "                "
      ],
      "text/plain": [
       "<IPython.core.display.HTML object>"
      ]
     },
     "metadata": {},
     "output_type": "display_data"
    },
    {
     "data": {
      "text/plain": [
       "57.5"
      ]
     },
     "execution_count": 41,
     "metadata": {},
     "output_type": "execute_result"
    }
   ],
   "source": [
    "# Set up the `evaluate_on_hotpotqa` function. We'll use this many times below.\n",
    "evaluate_on_hotpotqa = Evaluate(\n",
    "    devset=devset, num_threads=1, display_progress=True, display_table=5\n",
    ")\n",
    "\n",
    "# Evaluate the `compiled_rag` program with the `answer_exact_match` metric.\n",
    "evaluate_on_hotpotqa(compiled_rag, metric=dspy.evaluate.answer_exact_match)"
   ]
  },
  {
   "cell_type": "markdown",
   "id": "b4485d80-fd34-4569-9d08-2d001ce49041",
   "metadata": {},
   "source": [
    "Display additional columns"
   ]
  },
  {
   "cell_type": "code",
   "execution_count": 42,
   "id": "1cde0057-3170-4d66-ab6b-74142b3a6cfa",
   "metadata": {},
   "outputs": [
    {
     "name": "stdout",
     "output_type": "stream",
     "text": [
      "Average Metric: 11 / 40  (27.5): 100%|███████████████████████████| 40/40 [00:00<00:00, 303.45it/s]\n"
     ]
    },
    {
     "data": {
      "text/html": [
       "<style type=\"text/css\">\n",
       "#T_60b4b th {\n",
       "  text-align: left;\n",
       "}\n",
       "#T_60b4b td {\n",
       "  text-align: left;\n",
       "}\n",
       "#T_60b4b_row0_col0, #T_60b4b_row0_col1, #T_60b4b_row0_col2, #T_60b4b_row0_col3, #T_60b4b_row0_col4, #T_60b4b_row0_col5, #T_60b4b_row1_col0, #T_60b4b_row1_col1, #T_60b4b_row1_col2, #T_60b4b_row1_col3, #T_60b4b_row1_col4, #T_60b4b_row1_col5, #T_60b4b_row2_col0, #T_60b4b_row2_col1, #T_60b4b_row2_col2, #T_60b4b_row2_col3, #T_60b4b_row2_col4, #T_60b4b_row2_col5, #T_60b4b_row3_col0, #T_60b4b_row3_col1, #T_60b4b_row3_col2, #T_60b4b_row3_col3, #T_60b4b_row3_col4, #T_60b4b_row3_col5, #T_60b4b_row4_col0, #T_60b4b_row4_col1, #T_60b4b_row4_col2, #T_60b4b_row4_col3, #T_60b4b_row4_col4, #T_60b4b_row4_col5 {\n",
       "  text-align: left;\n",
       "  white-space: pre-wrap;\n",
       "  word-wrap: break-word;\n",
       "  max-width: 400px;\n",
       "}\n",
       "</style>\n",
       "<table id=\"T_60b4b\">\n",
       "  <thead>\n",
       "    <tr>\n",
       "      <th class=\"blank level0\" >&nbsp;</th>\n",
       "      <th id=\"T_60b4b_level0_col0\" class=\"col_heading level0 col0\" >question</th>\n",
       "      <th id=\"T_60b4b_level0_col1\" class=\"col_heading level0 col1\" >example_answer</th>\n",
       "      <th id=\"T_60b4b_level0_col2\" class=\"col_heading level0 col2\" >gold_titles</th>\n",
       "      <th id=\"T_60b4b_level0_col3\" class=\"col_heading level0 col3\" >context</th>\n",
       "      <th id=\"T_60b4b_level0_col4\" class=\"col_heading level0 col4\" >pred_answer</th>\n",
       "      <th id=\"T_60b4b_level0_col5\" class=\"col_heading level0 col5\" >gold_passages_retrieved</th>\n",
       "    </tr>\n",
       "  </thead>\n",
       "  <tbody>\n",
       "    <tr>\n",
       "      <th id=\"T_60b4b_level0_row0\" class=\"row_heading level0 row0\" >0</th>\n",
       "      <td id=\"T_60b4b_row0_col0\" class=\"data row0 col0\" >Are both Cangzhou and Qionghai in the Hebei province of China?</td>\n",
       "      <td id=\"T_60b4b_row0_col1\" class=\"data row0 col1\" >no</td>\n",
       "      <td id=\"T_60b4b_row0_col2\" class=\"data row0 col2\" >{'Cangzhou', 'Qionghai'}</td>\n",
       "      <td id=\"T_60b4b_row0_col3\" class=\"data row0 col3\" >['Cangzhou | Cangzhou () is a prefecture-level city in eastern Hebei province, People\\'s Republic of China. At the 2010 census, Cangzhou\\'s built-up (\"or metro\") area...</td>\n",
       "      <td id=\"T_60b4b_row0_col4\" class=\"data row0 col4\" >No</td>\n",
       "      <td id=\"T_60b4b_row0_col5\" class=\"data row0 col5\" >False</td>\n",
       "    </tr>\n",
       "    <tr>\n",
       "      <th id=\"T_60b4b_level0_row1\" class=\"row_heading level0 row1\" >1</th>\n",
       "      <td id=\"T_60b4b_row1_col0\" class=\"data row1 col0\" >Who conducts the draft in which Marc-Andre Fleury was drafted to the Vegas Golden Knights for the 2017-18 season?</td>\n",
       "      <td id=\"T_60b4b_row1_col1\" class=\"data row1 col1\" >National Hockey League</td>\n",
       "      <td id=\"T_60b4b_row1_col2\" class=\"data row1 col2\" >{'2017 NHL Expansion Draft', '2017–18 Pittsburgh Penguins season'}</td>\n",
       "      <td id=\"T_60b4b_row1_col3\" class=\"data row1 col3\" >['2017–18 Pittsburgh Penguins season | The 2017–18 Pittsburgh Penguins season will be the 51st season for the National Hockey League ice hockey team that was...</td>\n",
       "      <td id=\"T_60b4b_row1_col4\" class=\"data row1 col4\" >National Hockey League</td>\n",
       "      <td id=\"T_60b4b_row1_col5\" class=\"data row1 col5\" >✔️ [True]</td>\n",
       "    </tr>\n",
       "    <tr>\n",
       "      <th id=\"T_60b4b_level0_row2\" class=\"row_heading level0 row2\" >2</th>\n",
       "      <td id=\"T_60b4b_row2_col0\" class=\"data row2 col0\" >The Wings entered a new era, following the retirement of which Canadian retired professional ice hockey player and current general manager of the Tampa Bay...</td>\n",
       "      <td id=\"T_60b4b_row2_col1\" class=\"data row2 col1\" >Steve Yzerman</td>\n",
       "      <td id=\"T_60b4b_row2_col2\" class=\"data row2 col2\" >{'2006–07 Detroit Red Wings season', 'Steve Yzerman'}</td>\n",
       "      <td id=\"T_60b4b_row2_col3\" class=\"data row2 col3\" >['Steve Yzerman | Stephen Gregory \"Steve\" Yzerman ( ; born May 9, 1965) is a Canadian retired professional ice hockey player and current general manager...</td>\n",
       "      <td id=\"T_60b4b_row2_col4\" class=\"data row2 col4\" >Steve Yzerman</td>\n",
       "      <td id=\"T_60b4b_row2_col5\" class=\"data row2 col5\" >✔️ [True]</td>\n",
       "    </tr>\n",
       "    <tr>\n",
       "      <th id=\"T_60b4b_level0_row3\" class=\"row_heading level0 row3\" >3</th>\n",
       "      <td id=\"T_60b4b_row3_col0\" class=\"data row3 col0\" >What river is near the Crichton Collegiate Church?</td>\n",
       "      <td id=\"T_60b4b_row3_col1\" class=\"data row3 col1\" >the River Tyne</td>\n",
       "      <td id=\"T_60b4b_row3_col2\" class=\"data row3 col2\" >{'Crichton Castle', 'Crichton Collegiate Church'}</td>\n",
       "      <td id=\"T_60b4b_row3_col3\" class=\"data row3 col3\" >[\"Crichton Collegiate Church | Crichton Collegiate Church is situated about 0.6 mi south west of the hamlet of Crichton in Midlothian, Scotland. Crichton itself is...</td>\n",
       "      <td id=\"T_60b4b_row3_col4\" class=\"data row3 col4\" >River Tyne</td>\n",
       "      <td id=\"T_60b4b_row3_col5\" class=\"data row3 col5\" >✔️ [True]</td>\n",
       "    </tr>\n",
       "    <tr>\n",
       "      <th id=\"T_60b4b_level0_row4\" class=\"row_heading level0 row4\" >4</th>\n",
       "      <td id=\"T_60b4b_row4_col0\" class=\"data row4 col0\" >In the 10th Century A.D. Ealhswith had a son called Æthelweard by which English king?</td>\n",
       "      <td id=\"T_60b4b_row4_col1\" class=\"data row4 col1\" >King Alfred the Great</td>\n",
       "      <td id=\"T_60b4b_row4_col2\" class=\"data row4 col2\" >{'Ealhswith', 'Æthelweard (son of Alfred)'}</td>\n",
       "      <td id=\"T_60b4b_row4_col3\" class=\"data row4 col3\" >[\"Æthelweard of East Anglia | Æthelweard (died 854) was a 9th-century king of East Anglia, the long-lived Anglo-Saxon kingdom which today includes the English counties...</td>\n",
       "      <td id=\"T_60b4b_row4_col4\" class=\"data row4 col4\" >Alfred the Great</td>\n",
       "      <td id=\"T_60b4b_row4_col5\" class=\"data row4 col5\" >False</td>\n",
       "    </tr>\n",
       "  </tbody>\n",
       "</table>\n"
      ],
      "text/plain": [
       "<pandas.io.formats.style.Styler at 0x7f833dc46a50>"
      ]
     },
     "metadata": {},
     "output_type": "display_data"
    },
    {
     "data": {
      "text/html": [
       "\n",
       "                <div style='\n",
       "                    text-align: center;\n",
       "                    font-size: 16px;\n",
       "                    font-weight: bold;\n",
       "                    color: #555;\n",
       "                    margin: 10px 0;'>\n",
       "                    ... 35 more rows not displayed ...\n",
       "                </div>\n",
       "                "
      ],
      "text/plain": [
       "<IPython.core.display.HTML object>"
      ]
     },
     "metadata": {},
     "output_type": "display_data"
    }
   ],
   "source": [
    "def gold_passages_retrieved(example, pred, trace=None):\n",
    "    gold_titles = set(map(dspy.evaluate.normalize_text, example[\"gold_titles\"]))\n",
    "    found_titles = set(\n",
    "        map(dspy.evaluate.normalize_text, [c.split(\" | \")[0] for c in pred.context])\n",
    "    )\n",
    "\n",
    "    return gold_titles.issubset(found_titles)\n",
    "\n",
    "\n",
    "compiled_rag_retrieval_score = evaluate_on_hotpotqa(\n",
    "    compiled_rag, metric=gold_passages_retrieved\n",
    ")"
   ]
  },
  {
   "cell_type": "markdown",
   "id": "aded45ea-850f-49f2-af84-66c10f454935",
   "metadata": {},
   "source": [
    "### Multi-hop search"
   ]
  },
  {
   "cell_type": "markdown",
   "id": "f88bb164-fede-4a89-b72e-c6de31767e80",
   "metadata": {},
   "source": [
    "Create a signature"
   ]
  },
  {
   "cell_type": "code",
   "execution_count": 44,
   "id": "98ef03e0-504d-4551-8c48-1825e361f20e",
   "metadata": {},
   "outputs": [],
   "source": [
    "class GenerateSearchQuery(dspy.Signature):\n",
    "    \"Write a simple search query to answer a complex question\"\n",
    "\n",
    "    context = dspy.InputField(desc=\"may contain relevant facts\")\n",
    "    question = dspy.InputField()\n",
    "    query = dspy.OutputField()"
   ]
  },
  {
   "cell_type": "markdown",
   "id": "9e57f216-84a1-4219-b8d8-5637a4e355ba",
   "metadata": {},
   "source": [
    "Create program"
   ]
  },
  {
   "cell_type": "code",
   "execution_count": 47,
   "id": "774f8b5b-c7f6-430f-88ea-693f88ea8f40",
   "metadata": {},
   "outputs": [],
   "source": [
    "class SimplifiedBaleen(dspy.Module):\n",
    "    def __init__(self, passages_per_hop=3, max_hops=2):\n",
    "        super().__init__()\n",
    "\n",
    "        self.generate_query = [\n",
    "            dspy.ChainOfThought(GenerateSearchQuery) for _ in range(max_hops)\n",
    "        ]\n",
    "        self.retrieve = dspy.Retrieve(k=passages_per_hop)\n",
    "        self.generate_answer = dspy.ChainOfThought(GenerateAnswer)\n",
    "        self.max_hops = max_hops\n",
    "\n",
    "    def forward(self, question):\n",
    "        context = []\n",
    "\n",
    "        for hop in range(self.max_hops):\n",
    "            query = self.generate_query[hop](context=context, question=question).query\n",
    "            passages = self.retrieve(query).passages\n",
    "            context = deduplicate(context + passages)\n",
    "\n",
    "        pred = self.generate_answer(context=context, question=question)\n",
    "        return dspy.Prediction(context=context, answer=pred.answer)"
   ]
  },
  {
   "cell_type": "markdown",
   "id": "6f5a17d8-ebc7-438a-be65-e61a9b962a72",
   "metadata": {},
   "source": [
    "Zero-shot learning"
   ]
  },
  {
   "cell_type": "code",
   "execution_count": 48,
   "id": "74f1ddf5-bfbe-4b04-ab6e-41e44eea902a",
   "metadata": {},
   "outputs": [],
   "source": [
    "my_question = \"How may storeys are in the castle that David Gregory inherited?\"\n",
    "\n",
    "uncompiled_baleen = SimplifiedBaleen()\n",
    "pred = uncompiled_baleen(my_question)"
   ]
  },
  {
   "cell_type": "code",
   "execution_count": 49,
   "id": "a7b0bc58-99de-43fd-bf48-3422a282be68",
   "metadata": {},
   "outputs": [
    {
     "name": "stdout",
     "output_type": "stream",
     "text": [
      "Question: How may storeys are in the castle that David Gregory inherited?\n",
      "Predicted Answer: five\n",
      "Retrieved Contexts: ['David Gregory (physician) | David Gregory (20 December 1625 – 1720) was a Scottish physician and inventor. His surname is sometimes spelt as Gregorie, the original Scottish spelling. He inherited Kinn...', 'David Webster (architect) | David Webster (1885–1952) was a Scottish-Canadian architect best known for his designs of elementary schools in Saskatoon, Saskatchewan, Canada. His school designs were oft...', 'David Gregory (footballer, born 1970) | Born in Polstead, Gregory began his career at Ipswich Town, making 32 appearances between 1987–1995. He made two appearances on loan at Hereford United and thre...', 'Kinnairdy Castle | Kinnairdy Castle is a tower house, having five storeys and a garret, two miles south of Aberchirder, Aberdeenshire, Scotland. The alternative name is Old Kinnairdy....', 'Kinnordy House | Kinnordy House (alternative spellings: Kynnordy, Kinardy, Kinnordie and Kinorde) is an estate house near Kirriemuir in Angus, Scotland. The first house was built in the 1680s, when In...']\n"
     ]
    }
   ],
   "source": [
    "print(f\"Question: {my_question}\")\n",
    "print(f\"Predicted Answer: {pred.answer}\")\n",
    "print(f\"Retrieved Contexts: {[c[:200] + '...' for c in pred.context]}\")"
   ]
  },
  {
   "cell_type": "code",
   "execution_count": 52,
   "id": "d67826e7-4b5c-4ecc-b3ac-bc5009be305d",
   "metadata": {},
   "outputs": [],
   "source": [
    "def validate_context_and_answer_and_hops(example, pred, trace=None):\n",
    "    if not dspy.evaluate.answer_exact_match(example, pred):\n",
    "        return False\n",
    "    if not dspy.evaluate.answer_passage_match(example, pred):\n",
    "        return False\n",
    "\n",
    "    hops = [example.question] + [\n",
    "        outputs.query for *_, outputs in trace if \"query\" in outputs\n",
    "    ]\n",
    "\n",
    "    if max([len(h) for h in hops]) > 100:\n",
    "        return False\n",
    "    if any(\n",
    "        dspy.evaluate.answer_exact_match_str(hops[idx], hops[:idx], frac=0.8)\n",
    "        for idx in range(2, len(hops))\n",
    "    ):\n",
    "        return False\n",
    "\n",
    "    return True"
   ]
  },
  {
   "cell_type": "code",
   "execution_count": 53,
   "id": "66f84117-0aae-4c13-b67b-b5bedbb2c290",
   "metadata": {},
   "outputs": [
    {
     "name": "stderr",
     "output_type": "stream",
     "text": [
      "100%|█████████████████████████████████████████████████████████████| 20/20 [01:11<00:00,  3.59s/it]\n"
     ]
    }
   ],
   "source": [
    "teleprompter = BootstrapFewShot(metric=validate_context_and_answer_and_hops)\n",
    "compiled_baleen = teleprompter.compile(\n",
    "    SimplifiedBaleen(), teacher=SimplifiedBaleen(passages_per_hop=2), trainset=trainset\n",
    ")"
   ]
  },
  {
   "cell_type": "markdown",
   "id": "6c59f113-4096-4f23-be22-aa83740d8a7a",
   "metadata": {},
   "source": [
    "Compare uncompiled and compiled pipelines"
   ]
  },
  {
   "cell_type": "code",
   "execution_count": 54,
   "id": "19420d14-78a6-4a9f-b6e1-6725ce694907",
   "metadata": {},
   "outputs": [
    {
     "name": "stdout",
     "output_type": "stream",
     "text": [
      "Average Metric: 22 / 40  (55.0): 100%|████████████████████████████| 40/40 [02:12<00:00,  3.32s/it]\n"
     ]
    },
    {
     "data": {
      "text/html": [
       "<style type=\"text/css\">\n",
       "#T_87967 th {\n",
       "  text-align: left;\n",
       "}\n",
       "#T_87967 td {\n",
       "  text-align: left;\n",
       "}\n",
       "#T_87967_row0_col0, #T_87967_row0_col1, #T_87967_row0_col2, #T_87967_row0_col3, #T_87967_row0_col4, #T_87967_row0_col5, #T_87967_row1_col0, #T_87967_row1_col1, #T_87967_row1_col2, #T_87967_row1_col3, #T_87967_row1_col4, #T_87967_row1_col5, #T_87967_row2_col0, #T_87967_row2_col1, #T_87967_row2_col2, #T_87967_row2_col3, #T_87967_row2_col4, #T_87967_row2_col5, #T_87967_row3_col0, #T_87967_row3_col1, #T_87967_row3_col2, #T_87967_row3_col3, #T_87967_row3_col4, #T_87967_row3_col5, #T_87967_row4_col0, #T_87967_row4_col1, #T_87967_row4_col2, #T_87967_row4_col3, #T_87967_row4_col4, #T_87967_row4_col5 {\n",
       "  text-align: left;\n",
       "  white-space: pre-wrap;\n",
       "  word-wrap: break-word;\n",
       "  max-width: 400px;\n",
       "}\n",
       "</style>\n",
       "<table id=\"T_87967\">\n",
       "  <thead>\n",
       "    <tr>\n",
       "      <th class=\"blank level0\" >&nbsp;</th>\n",
       "      <th id=\"T_87967_level0_col0\" class=\"col_heading level0 col0\" >question</th>\n",
       "      <th id=\"T_87967_level0_col1\" class=\"col_heading level0 col1\" >example_answer</th>\n",
       "      <th id=\"T_87967_level0_col2\" class=\"col_heading level0 col2\" >gold_titles</th>\n",
       "      <th id=\"T_87967_level0_col3\" class=\"col_heading level0 col3\" >context</th>\n",
       "      <th id=\"T_87967_level0_col4\" class=\"col_heading level0 col4\" >pred_answer</th>\n",
       "      <th id=\"T_87967_level0_col5\" class=\"col_heading level0 col5\" >gold_passages_retrieved</th>\n",
       "    </tr>\n",
       "  </thead>\n",
       "  <tbody>\n",
       "    <tr>\n",
       "      <th id=\"T_87967_level0_row0\" class=\"row_heading level0 row0\" >0</th>\n",
       "      <td id=\"T_87967_row0_col0\" class=\"data row0 col0\" >Are both Cangzhou and Qionghai in the Hebei province of China?</td>\n",
       "      <td id=\"T_87967_row0_col1\" class=\"data row0 col1\" >no</td>\n",
       "      <td id=\"T_87967_row0_col2\" class=\"data row0 col2\" >{'Cangzhou', 'Qionghai'}</td>\n",
       "      <td id=\"T_87967_row0_col3\" class=\"data row0 col3\" >['Cangzhou | Cangzhou () is a prefecture-level city in eastern Hebei province, People\\'s Republic of China. At the 2010 census, Cangzhou\\'s built-up (\"or metro\") area...</td>\n",
       "      <td id=\"T_87967_row0_col4\" class=\"data row0 col4\" >No</td>\n",
       "      <td id=\"T_87967_row0_col5\" class=\"data row0 col5\" >✔️ [True]</td>\n",
       "    </tr>\n",
       "    <tr>\n",
       "      <th id=\"T_87967_level0_row1\" class=\"row_heading level0 row1\" >1</th>\n",
       "      <td id=\"T_87967_row1_col0\" class=\"data row1 col0\" >Who conducts the draft in which Marc-Andre Fleury was drafted to the Vegas Golden Knights for the 2017-18 season?</td>\n",
       "      <td id=\"T_87967_row1_col1\" class=\"data row1 col1\" >National Hockey League</td>\n",
       "      <td id=\"T_87967_row1_col2\" class=\"data row1 col2\" >{'2017 NHL Expansion Draft', '2017–18 Pittsburgh Penguins season'}</td>\n",
       "      <td id=\"T_87967_row1_col3\" class=\"data row1 col3\" >[\"2017 NHL Expansion Draft | The 2017 NHL Expansion Draft was an expansion draft conducted by the National Hockey League on June 18–20, 2017 to...</td>\n",
       "      <td id=\"T_87967_row1_col4\" class=\"data row1 col4\" >National Hockey League</td>\n",
       "      <td id=\"T_87967_row1_col5\" class=\"data row1 col5\" >✔️ [True]</td>\n",
       "    </tr>\n",
       "    <tr>\n",
       "      <th id=\"T_87967_level0_row2\" class=\"row_heading level0 row2\" >2</th>\n",
       "      <td id=\"T_87967_row2_col0\" class=\"data row2 col0\" >The Wings entered a new era, following the retirement of which Canadian retired professional ice hockey player and current general manager of the Tampa Bay...</td>\n",
       "      <td id=\"T_87967_row2_col1\" class=\"data row2 col1\" >Steve Yzerman</td>\n",
       "      <td id=\"T_87967_row2_col2\" class=\"data row2 col2\" >{'2006–07 Detroit Red Wings season', 'Steve Yzerman'}</td>\n",
       "      <td id=\"T_87967_row2_col3\" class=\"data row2 col3\" >['Steve Yzerman | Stephen Gregory \"Steve\" Yzerman ( ; born May 9, 1965) is a Canadian retired professional ice hockey player and current general manager...</td>\n",
       "      <td id=\"T_87967_row2_col4\" class=\"data row2 col4\" >Steve Yzerman</td>\n",
       "      <td id=\"T_87967_row2_col5\" class=\"data row2 col5\" >False</td>\n",
       "    </tr>\n",
       "    <tr>\n",
       "      <th id=\"T_87967_level0_row3\" class=\"row_heading level0 row3\" >3</th>\n",
       "      <td id=\"T_87967_row3_col0\" class=\"data row3 col0\" >What river is near the Crichton Collegiate Church?</td>\n",
       "      <td id=\"T_87967_row3_col1\" class=\"data row3 col1\" >the River Tyne</td>\n",
       "      <td id=\"T_87967_row3_col2\" class=\"data row3 col2\" >{'Crichton Castle', 'Crichton Collegiate Church'}</td>\n",
       "      <td id=\"T_87967_row3_col3\" class=\"data row3 col3\" >['River Esk, Dumfries and Galloway | The River Esk (Scottish Gaelic: \"Easg\" ), also called the Border Esk, is a river in Dumfries and Galloway,...</td>\n",
       "      <td id=\"T_87967_row3_col4\" class=\"data row3 col4\" >Cairn Water</td>\n",
       "      <td id=\"T_87967_row3_col5\" class=\"data row3 col5\" >False</td>\n",
       "    </tr>\n",
       "    <tr>\n",
       "      <th id=\"T_87967_level0_row4\" class=\"row_heading level0 row4\" >4</th>\n",
       "      <td id=\"T_87967_row4_col0\" class=\"data row4 col0\" >In the 10th Century A.D. Ealhswith had a son called Æthelweard by which English king?</td>\n",
       "      <td id=\"T_87967_row4_col1\" class=\"data row4 col1\" >King Alfred the Great</td>\n",
       "      <td id=\"T_87967_row4_col2\" class=\"data row4 col2\" >{'Ealhswith', 'Æthelweard (son of Alfred)'}</td>\n",
       "      <td id=\"T_87967_row4_col3\" class=\"data row4 col3\" >['Æthelweard (son of Alfred) | Æthelweard (d. 920 or 922) was the younger son of King Alfred the Great and Ealhswith.', 'Æthelred Mucel | Æthelred...</td>\n",
       "      <td id=\"T_87967_row4_col4\" class=\"data row4 col4\" >King Alfred the Great</td>\n",
       "      <td id=\"T_87967_row4_col5\" class=\"data row4 col5\" >✔️ [True]</td>\n",
       "    </tr>\n",
       "  </tbody>\n",
       "</table>\n"
      ],
      "text/plain": [
       "<pandas.io.formats.style.Styler at 0x7f833d59ffd0>"
      ]
     },
     "metadata": {},
     "output_type": "display_data"
    },
    {
     "data": {
      "text/html": [
       "\n",
       "                <div style='\n",
       "                    text-align: center;\n",
       "                    font-size: 16px;\n",
       "                    font-weight: bold;\n",
       "                    color: #555;\n",
       "                    margin: 10px 0;'>\n",
       "                    ... 35 more rows not displayed ...\n",
       "                </div>\n",
       "                "
      ],
      "text/plain": [
       "<IPython.core.display.HTML object>"
      ]
     },
     "metadata": {},
     "output_type": "display_data"
    }
   ],
   "source": [
    "uncompiled_baleen_retrieval_score = evaluate_on_hotpotqa(\n",
    "    uncompiled_baleen, metric=gold_passages_retrieved\n",
    ")"
   ]
  },
  {
   "cell_type": "code",
   "execution_count": 55,
   "id": "b9aa4d33-bbbf-40cb-a0cf-0fc291888331",
   "metadata": {},
   "outputs": [
    {
     "name": "stdout",
     "output_type": "stream",
     "text": [
      "Average Metric: 27 / 40  (67.5): 100%|████████████████████████████| 40/40 [02:11<00:00,  3.29s/it]\n"
     ]
    },
    {
     "data": {
      "text/html": [
       "<style type=\"text/css\">\n",
       "#T_ffe5c th {\n",
       "  text-align: left;\n",
       "}\n",
       "#T_ffe5c td {\n",
       "  text-align: left;\n",
       "}\n",
       "#T_ffe5c_row0_col0, #T_ffe5c_row0_col1, #T_ffe5c_row0_col2, #T_ffe5c_row0_col3, #T_ffe5c_row0_col4, #T_ffe5c_row0_col5, #T_ffe5c_row1_col0, #T_ffe5c_row1_col1, #T_ffe5c_row1_col2, #T_ffe5c_row1_col3, #T_ffe5c_row1_col4, #T_ffe5c_row1_col5, #T_ffe5c_row2_col0, #T_ffe5c_row2_col1, #T_ffe5c_row2_col2, #T_ffe5c_row2_col3, #T_ffe5c_row2_col4, #T_ffe5c_row2_col5, #T_ffe5c_row3_col0, #T_ffe5c_row3_col1, #T_ffe5c_row3_col2, #T_ffe5c_row3_col3, #T_ffe5c_row3_col4, #T_ffe5c_row3_col5, #T_ffe5c_row4_col0, #T_ffe5c_row4_col1, #T_ffe5c_row4_col2, #T_ffe5c_row4_col3, #T_ffe5c_row4_col4, #T_ffe5c_row4_col5 {\n",
       "  text-align: left;\n",
       "  white-space: pre-wrap;\n",
       "  word-wrap: break-word;\n",
       "  max-width: 400px;\n",
       "}\n",
       "</style>\n",
       "<table id=\"T_ffe5c\">\n",
       "  <thead>\n",
       "    <tr>\n",
       "      <th class=\"blank level0\" >&nbsp;</th>\n",
       "      <th id=\"T_ffe5c_level0_col0\" class=\"col_heading level0 col0\" >question</th>\n",
       "      <th id=\"T_ffe5c_level0_col1\" class=\"col_heading level0 col1\" >example_answer</th>\n",
       "      <th id=\"T_ffe5c_level0_col2\" class=\"col_heading level0 col2\" >gold_titles</th>\n",
       "      <th id=\"T_ffe5c_level0_col3\" class=\"col_heading level0 col3\" >context</th>\n",
       "      <th id=\"T_ffe5c_level0_col4\" class=\"col_heading level0 col4\" >pred_answer</th>\n",
       "      <th id=\"T_ffe5c_level0_col5\" class=\"col_heading level0 col5\" >gold_passages_retrieved</th>\n",
       "    </tr>\n",
       "  </thead>\n",
       "  <tbody>\n",
       "    <tr>\n",
       "      <th id=\"T_ffe5c_level0_row0\" class=\"row_heading level0 row0\" >0</th>\n",
       "      <td id=\"T_ffe5c_row0_col0\" class=\"data row0 col0\" >Are both Cangzhou and Qionghai in the Hebei province of China?</td>\n",
       "      <td id=\"T_ffe5c_row0_col1\" class=\"data row0 col1\" >no</td>\n",
       "      <td id=\"T_ffe5c_row0_col2\" class=\"data row0 col2\" >{'Cangzhou', 'Qionghai'}</td>\n",
       "      <td id=\"T_ffe5c_row0_col3\" class=\"data row0 col3\" >['Cangzhou | Cangzhou () is a prefecture-level city in eastern Hebei province, People\\'s Republic of China. At the 2010 census, Cangzhou\\'s built-up (\"or metro\") area...</td>\n",
       "      <td id=\"T_ffe5c_row0_col4\" class=\"data row0 col4\" >No</td>\n",
       "      <td id=\"T_ffe5c_row0_col5\" class=\"data row0 col5\" >✔️ [True]</td>\n",
       "    </tr>\n",
       "    <tr>\n",
       "      <th id=\"T_ffe5c_level0_row1\" class=\"row_heading level0 row1\" >1</th>\n",
       "      <td id=\"T_ffe5c_row1_col0\" class=\"data row1 col0\" >Who conducts the draft in which Marc-Andre Fleury was drafted to the Vegas Golden Knights for the 2017-18 season?</td>\n",
       "      <td id=\"T_ffe5c_row1_col1\" class=\"data row1 col1\" >National Hockey League</td>\n",
       "      <td id=\"T_ffe5c_row1_col2\" class=\"data row1 col2\" >{'2017 NHL Expansion Draft', '2017–18 Pittsburgh Penguins season'}</td>\n",
       "      <td id=\"T_ffe5c_row1_col3\" class=\"data row1 col3\" >['2017–18 Vegas Golden Knights season | The 2017–18 Vegas Golden Knights season will be the inaugural season for the Vegas Golden Knights. They will play...</td>\n",
       "      <td id=\"T_ffe5c_row1_col4\" class=\"data row1 col4\" >National Hockey League</td>\n",
       "      <td id=\"T_ffe5c_row1_col5\" class=\"data row1 col5\" >False</td>\n",
       "    </tr>\n",
       "    <tr>\n",
       "      <th id=\"T_ffe5c_level0_row2\" class=\"row_heading level0 row2\" >2</th>\n",
       "      <td id=\"T_ffe5c_row2_col0\" class=\"data row2 col0\" >The Wings entered a new era, following the retirement of which Canadian retired professional ice hockey player and current general manager of the Tampa Bay...</td>\n",
       "      <td id=\"T_ffe5c_row2_col1\" class=\"data row2 col1\" >Steve Yzerman</td>\n",
       "      <td id=\"T_ffe5c_row2_col2\" class=\"data row2 col2\" >{'2006–07 Detroit Red Wings season', 'Steve Yzerman'}</td>\n",
       "      <td id=\"T_ffe5c_row2_col3\" class=\"data row2 col3\" >['Steve Yzerman | Stephen Gregory \"Steve\" Yzerman ( ; born May 9, 1965) is a Canadian retired professional ice hockey player and current general manager...</td>\n",
       "      <td id=\"T_ffe5c_row2_col4\" class=\"data row2 col4\" >Steve Yzerman</td>\n",
       "      <td id=\"T_ffe5c_row2_col5\" class=\"data row2 col5\" >False</td>\n",
       "    </tr>\n",
       "    <tr>\n",
       "      <th id=\"T_ffe5c_level0_row3\" class=\"row_heading level0 row3\" >3</th>\n",
       "      <td id=\"T_ffe5c_row3_col0\" class=\"data row3 col0\" >What river is near the Crichton Collegiate Church?</td>\n",
       "      <td id=\"T_ffe5c_row3_col1\" class=\"data row3 col1\" >the River Tyne</td>\n",
       "      <td id=\"T_ffe5c_row3_col2\" class=\"data row3 col2\" >{'Crichton Castle', 'Crichton Collegiate Church'}</td>\n",
       "      <td id=\"T_ffe5c_row3_col3\" class=\"data row3 col3\" >[\"Crichton Collegiate Church | Crichton Collegiate Church is situated about 0.6 mi south west of the hamlet of Crichton in Midlothian, Scotland. Crichton itself is...</td>\n",
       "      <td id=\"T_ffe5c_row3_col4\" class=\"data row3 col4\" >River Tyne</td>\n",
       "      <td id=\"T_ffe5c_row3_col5\" class=\"data row3 col5\" >✔️ [True]</td>\n",
       "    </tr>\n",
       "    <tr>\n",
       "      <th id=\"T_ffe5c_level0_row4\" class=\"row_heading level0 row4\" >4</th>\n",
       "      <td id=\"T_ffe5c_row4_col0\" class=\"data row4 col0\" >In the 10th Century A.D. Ealhswith had a son called Æthelweard by which English king?</td>\n",
       "      <td id=\"T_ffe5c_row4_col1\" class=\"data row4 col1\" >King Alfred the Great</td>\n",
       "      <td id=\"T_ffe5c_row4_col2\" class=\"data row4 col2\" >{'Ealhswith', 'Æthelweard (son of Alfred)'}</td>\n",
       "      <td id=\"T_ffe5c_row4_col3\" class=\"data row4 col3\" >['Prince Alfred of Great Britain | Prince Alfred (22 September 1780 – 20 August 1782) was a member of the British Royal Family as the...</td>\n",
       "      <td id=\"T_ffe5c_row4_col4\" class=\"data row4 col4\" >King Alfred the Great</td>\n",
       "      <td id=\"T_ffe5c_row4_col5\" class=\"data row4 col5\" >False</td>\n",
       "    </tr>\n",
       "  </tbody>\n",
       "</table>\n"
      ],
      "text/plain": [
       "<pandas.io.formats.style.Styler at 0x7f833d3708d0>"
      ]
     },
     "metadata": {},
     "output_type": "display_data"
    },
    {
     "data": {
      "text/html": [
       "\n",
       "                <div style='\n",
       "                    text-align: center;\n",
       "                    font-size: 16px;\n",
       "                    font-weight: bold;\n",
       "                    color: #555;\n",
       "                    margin: 10px 0;'>\n",
       "                    ... 35 more rows not displayed ...\n",
       "                </div>\n",
       "                "
      ],
      "text/plain": [
       "<IPython.core.display.HTML object>"
      ]
     },
     "metadata": {},
     "output_type": "display_data"
    }
   ],
   "source": [
    "compiled_baleen_retrieval_score = evaluate_on_hotpotqa(\n",
    "    compiled_baleen, metric=gold_passages_retrieved\n",
    ")"
   ]
  },
  {
   "cell_type": "code",
   "execution_count": 56,
   "id": "b38ac9e1-e8e4-42d1-9a6f-49f7dd390656",
   "metadata": {},
   "outputs": [
    {
     "name": "stdout",
     "output_type": "stream",
     "text": [
      "## Retrieval Score for RAG: 27.5\n",
      "## Retrieval Score for uncompiled Baleen: 55.0\n",
      "## Retrieval Score for compiled Baleen: 67.5\n"
     ]
    }
   ],
   "source": [
    "print(f\"## Retrieval Score for RAG: {compiled_rag_retrieval_score}\")\n",
    "print(f\"## Retrieval Score for uncompiled Baleen: {uncompiled_baleen_retrieval_score}\")\n",
    "print(f\"## Retrieval Score for compiled Baleen: {compiled_baleen_retrieval_score}\")"
   ]
  }
 ],
 "metadata": {
  "kernelspec": {
   "display_name": "Python 3 (ipykernel)",
   "language": "python",
   "name": "python3"
  },
  "language_info": {
   "codemirror_mode": {
    "name": "ipython",
    "version": 3
   },
   "file_extension": ".py",
   "mimetype": "text/x-python",
   "name": "python",
   "nbconvert_exporter": "python",
   "pygments_lexer": "ipython3",
   "version": "3.11.9"
  }
 },
 "nbformat": 4,
 "nbformat_minor": 5
}
